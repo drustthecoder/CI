{
 "cells": [
  {
   "cell_type": "code",
   "execution_count": 50,
   "metadata": {},
   "outputs": [
    {
     "name": "stderr",
     "output_type": "stream",
     "text": [
      "DEBUG:root:all_lists is [[0, 4], [1, 2, 3], [9, 6], [0, 1], [8, 9, 3], [8, 3], [0, 3, 4, 7, 9], [4, 5, 6], [1, 3, 5], [1, 6], [0, 9, 4, 5], [8, 1, 6], [9, 3, 5], [0, 3], [1, 3, 6], [2, 5, 7], [1, 3, 4, 9], [8, 2, 3], [3, 4, 5, 6, 8], [0, 3], [1, 3, 4, 6], [3, 6, 7], [2, 3, 4], [9, 6], [8, 2, 3, 7], [0, 1], [9, 2, 6], [6], [8, 0, 4, 1], [1, 4, 5, 6], [0, 4, 7], [8, 1, 4], [2, 5], [9, 5], [0, 1, 3, 4, 5], [9, 3], [1, 7], [8, 2], [8, 2, 7], [8, 9, 3, 6], [4, 5, 6], [8, 1, 3, 7], [0, 5], [0, 9, 3], [0, 3], [0, 5], [8, 3], [8, 2, 3, 7], [1, 3, 6, 7], [5, 6]]\n"
     ]
    }
   ],
   "source": [
    "import random, logging\n",
    "seed = 42\n",
    "N = 10\n",
    "\n",
    "logging.getLogger().setLevel(logging.DEBUG)\n",
    "\n",
    "def problem(N, seed=None):\n",
    "    \"\"\"Creates an instance of the problem\"\"\"\n",
    "\n",
    "    random.seed(seed)\n",
    "    return [\n",
    "        list(set(random.randint(0, N - 1) for n in range(random.randint(N // 5, N // 2))))\n",
    "        for n in range(random.randint(N, N * 5))\n",
    "    ]\n",
    "\n",
    "\n",
    "all_lists = problem(10, 42)\n",
    "\n",
    "\n",
    "\n",
    "logging.debug(f\"all_lists is {all_lists}\")\n"
   ]
  },
  {
   "cell_type": "code",
   "execution_count": 51,
   "metadata": {},
   "outputs": [],
   "source": [
    "def fitness(genome, n=N):\n",
    "    correct_n = len(set(genome))\n",
    "    repeated_n = len(genome) - correct_n\n",
    "    return correct_n - repeated_n\n",
    "\n",
    "def cross_over(g1, g2):\n",
    "    return g1 + g2\n",
    "\n",
    "def tournament(population, tournament_size=2):\n",
    "    return max(random.choices(population, k=tournament_size), key=lambda i: i.fitness)"
   ]
  },
  {
   "cell_type": "code",
   "execution_count": 52,
   "metadata": {},
   "outputs": [
    {
     "name": "stderr",
     "output_type": "stream",
     "text": [
      "DEBUG:root:poulation is [Individual(genome=[6], fitness=1), Individual(genome=[9, 2, 6], fitness=3), Individual(genome=[1, 4, 5, 6], fitness=4), Individual(genome=[8, 3], fitness=2), Individual(genome=[0, 1], fitness=2), Individual(genome=[0, 9, 3], fitness=3), Individual(genome=[8, 1, 3, 7], fitness=4), Individual(genome=[8, 1, 3, 7], fitness=4), Individual(genome=[0, 3, 4, 7, 9], fitness=5), Individual(genome=[0, 1], fitness=2)]\n"
     ]
    }
   ],
   "source": [
    "from collections import namedtuple\n",
    "from collections import Counter\n",
    "\n",
    "Individual = namedtuple(\"Individual\", [\"genome\", \"fitness\"])\n",
    "population = list()\n",
    "\n",
    "for i in range(10):\n",
    "    genome = random.choice(all_lists)\n",
    "    indv = Individual(genome, fitness(genome, 10))\n",
    "    population.append(indv)\n",
    "\n",
    "logging.debug(f\"poulation is {population}\")"
   ]
  },
  {
   "cell_type": "code",
   "execution_count": 54,
   "metadata": {},
   "outputs": [
    {
     "name": "stderr",
     "output_type": "stream",
     "text": [
      "INFO:root:population is [Individual(genome=[1, 4, 5, 6, 0, 3, 4, 7, 9], fitness=7), Individual(genome=[1, 4, 5, 6, 0, 3, 4, 7, 9], fitness=7), Individual(genome=[8, 3, 0, 3, 4, 7, 9, 9, 2, 6], fitness=6), Individual(genome=[1, 4, 5, 6, 8, 3, 0, 3, 4, 7, 9, 9, 2, 6], fitness=6), Individual(genome=[0, 3, 4, 7, 9, 9, 2, 6, 1, 4, 5, 6], fitness=6), Individual(genome=[8, 3, 0, 3, 4, 7, 9, 9, 2, 6, 1, 4, 5, 6], fitness=6), Individual(genome=[9, 2, 6, 1, 4, 5, 6, 0, 3, 4, 7, 9], fitness=6), Individual(genome=[0, 3, 4, 7, 9], fitness=5), Individual(genome=[0, 1, 0, 3, 4, 7, 9], fitness=5), Individual(genome=[9, 2, 6, 1, 4, 5, 6], fitness=5)]\n"
     ]
    }
   ],
   "source": [
    "logging.getLogger().setLevel(logging.INFO)\n",
    "\n",
    "NUM_GENERATIONS = 100\n",
    "OFFSPRING_SIZE = 3\n",
    "POPULATION_SIZE = 10\n",
    "\n",
    "for g in range(NUM_GENERATIONS):\n",
    "    offspring = list()\n",
    "    for i in range(OFFSPRING_SIZE):\n",
    "        p1 = tournament(population)\n",
    "        p2 = tournament(population)\n",
    "        o = cross_over(p1.genome, p2.genome)\n",
    "        f = fitness(o)\n",
    "        offspring.append(Individual(o, f))\n",
    "    population += offspring\n",
    "    population = sorted(population, key=lambda i: i.fitness, reverse=True)[:POPULATION_SIZE]\n",
    "\n",
    "logging.info(f\"population is {population}\")"
   ]
  }
 ],
 "metadata": {
  "kernelspec": {
   "display_name": "Python 3.8.10 64-bit",
   "language": "python",
   "name": "python3"
  },
  "language_info": {
   "codemirror_mode": {
    "name": "ipython",
    "version": 3
   },
   "file_extension": ".py",
   "mimetype": "text/x-python",
   "name": "python",
   "nbconvert_exporter": "python",
   "pygments_lexer": "ipython3",
   "version": "3.8.10"
  },
  "orig_nbformat": 4,
  "vscode": {
   "interpreter": {
    "hash": "916dbcbb3f70747c44a77c7bcd40155683ae19c65e1c03b4aa3499c5328201f1"
   }
  }
 },
 "nbformat": 4,
 "nbformat_minor": 2
}
