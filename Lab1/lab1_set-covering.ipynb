{
 "cells": [
  {
   "cell_type": "markdown",
   "metadata": {
    "pycharm": {
     "name": "#%% md\n"
    }
   },
   "source": [
    "Copyright **`(c)`** 2022 Giovanni Squillero `<squillero@polito.it>`  \n",
    "[`https://github.com/squillero/computational-intelligence`](https://github.com/squillero/computational-intelligence)  \n",
    "Free for personal or classroom use; see [`LICENSE.md`](https://github.com/squillero/computational-intelligence/blob/master/LICENSE.md) for details.  \n"
   ]
  },
  {
   "cell_type": "markdown",
   "metadata": {
    "pycharm": {
     "name": "#%%\n"
    }
   },
   "source": [
    "# Lab 1: Set Covering\n",
    "\n",
    "First lab + peer review. List this activity in your final report, it will be part of your exam.\n",
    "\n",
    "## Task\n",
    "\n",
    "Given a number $N$ and some lists of integers $P = (L_0, L_1, L_2, ..., L_n)$, \n",
    "determine, if possible, $S = (L_{s_0}, L_{s_1}, L_{s_2}, ..., L_{s_n})$\n",
    "such that each number between $0$ and $N-1$ appears in at least one list\n",
    "\n",
    "$$\\forall n \\in [0, N-1] \\ \\exists i : n \\in L_{s_i}$$\n",
    "\n",
    "and that the total numbers of elements in all $L_{s_i}$ is minimum. \n",
    "\n",
    "## Instructions\n",
    "\n",
    "* Create the directory `lab1` inside the course repo (the one you registered with Andrea)\n",
    "* Put a `README.md` and your solution (all the files, code and auxiliary data if needed)\n",
    "* Use `problem` to generate the problems with different $N$\n",
    "* In the `README.md`, report the the total numbers of elements in $L_{s_i}$ for problem with $N \\in [5, 10, 20, 100, 500, 1000]$ and the total number on $nodes$ visited during the search. Use `seed=42`.\n",
    "* Use `GitHub Issues` to peer review others' lab\n",
    "\n",
    "## Notes\n",
    "\n",
    "* Working in group is not only allowed, but recommended (see: [Ubuntu](https://en.wikipedia.org/wiki/Ubuntu_philosophy) and [Cooperative Learning](https://files.eric.ed.gov/fulltext/EJ1096789.pdf)). Collaborations must be explicitly declared in the `README.md`.\n",
    "* [Yanking](https://www.emacswiki.org/emacs/KillingAndYanking) from the internet is allowed, but sources must be explicitly declared in the `README.md`.\n",
    "\n",
    "**Deadline**\n",
    "\n",
    "* Sunday, October 16th 23:59:59 for the working solution\n",
    "* Sunday, October 23rd 23:59:59 for the peer reviews"
   ]
  },
  {
   "cell_type": "code",
   "execution_count": 111,
   "metadata": {},
   "outputs": [],
   "source": [
    "import random"
   ]
  },
  {
   "cell_type": "code",
   "execution_count": 112,
   "metadata": {},
   "outputs": [
    {
     "name": "stdout",
     "output_type": "stream",
     "text": [
      "[[0], [1, 2], [5], [5], [0, 4], [0], [1], [4], [0, 1, 4], [4, 5], [1, 3], [2, 6], [6], [5], [2], [1], [0], [0, 2], [2, 4], [5], [0, 4], [0, 4], [5, 6], [2, 4, 6], [5], [0], [1, 2, 6]]\n"
     ]
    }
   ],
   "source": [
    "def problem(N, seed=None):\n",
    "    random.seed(seed)\n",
    "    return [\n",
    "        list(set(random.randint(0, N - 1) for n in range(random.randint(N // 5, N // 2))))\n",
    "        for n in range(random.randint(N, N * 5))\n",
    "    ]\n",
    "\n",
    "print (problem(7, 42))"
   ]
  },
  {
   "cell_type": "code",
   "execution_count": 113,
   "metadata": {},
   "outputs": [],
   "source": [
    "import logging\n",
    "\n",
    "\n",
    "def greedy(N):\n",
    "    goal = set(range(N))\n",
    "    covered = set()\n",
    "    solution = list()\n",
    "    all_lists = sorted(problem(N, seed=42), key=lambda l: len(l))\n",
    "    logging.debug(f\"all_lists: {all_lists}\")\n",
    "    while goal != covered: #while set of covered nums is not equal to goal\n",
    "        x = all_lists.pop(0) #pick a list from all_lists\n",
    "        if not set(x) < covered: #if set of picked list is not a subset of covered\n",
    "            solution.append(x) #append it to the solution\n",
    "            covered |= set(x) #covered gets updated and becomes a union of covered plus picked set\n",
    "            logging.debug(f\"set {x} added to covered\")\n",
    "\n",
    "    logging.info(\n",
    "        f\"Greedy solution for N={N}: w={sum(len(_) for _ in solution)} (bloat={(sum(len(_) for _ in solution)-N)/N*100:.0f}%)\"\n",
    "    )\n",
    "    logging.debug(f\"{solution}\")"
   ]
  },
  {
   "cell_type": "code",
   "execution_count": 114,
   "metadata": {},
   "outputs": [
    {
     "name": "stderr",
     "output_type": "stream",
     "text": [
      "DEBUG:root:all_lists: [[6], [0, 4], [9, 6], [0, 1], [8, 3], [1, 6], [0, 3], [0, 3], [9, 6], [0, 1], [2, 5], [9, 5], [9, 3], [1, 7], [8, 2], [0, 5], [0, 3], [0, 5], [8, 3], [5, 6], [1, 2, 3], [8, 9, 3], [4, 5, 6], [1, 3, 5], [8, 1, 6], [9, 3, 5], [1, 3, 6], [2, 5, 7], [8, 2, 3], [3, 6, 7], [2, 3, 4], [9, 2, 6], [0, 4, 7], [8, 1, 4], [8, 2, 7], [4, 5, 6], [0, 9, 3], [0, 9, 4, 5], [1, 3, 4, 9], [1, 3, 4, 6], [8, 2, 3, 7], [8, 0, 4, 1], [1, 4, 5, 6], [8, 9, 3, 6], [8, 1, 3, 7], [8, 2, 3, 7], [1, 3, 6, 7], [0, 3, 4, 7, 9], [3, 4, 5, 6, 8], [0, 1, 3, 4, 5]]\n",
      "DEBUG:root:set [6] added to covered\n",
      "DEBUG:root:set [0, 4] added to covered\n",
      "DEBUG:root:set [9, 6] added to covered\n",
      "DEBUG:root:set [0, 1] added to covered\n",
      "DEBUG:root:set [8, 3] added to covered\n",
      "DEBUG:root:set [2, 5] added to covered\n",
      "DEBUG:root:set [1, 7] added to covered\n",
      "INFO:root:Greedy solution for N=10: w=13 (bloat=30%)\n",
      "DEBUG:root:[[6], [0, 4], [9, 6], [0, 1], [8, 3], [2, 5], [1, 7]]\n"
     ]
    }
   ],
   "source": [
    "logging.getLogger().setLevel(logging.DEBUG)\n",
    "greedy(10)\n"
   ]
  },
  {
   "cell_type": "code",
   "execution_count": 115,
   "metadata": {},
   "outputs": [],
   "source": [
    "logging.getLogger().setLevel(logging.INFO)\n",
    "#for N in [5, 10, 20, 100, 500, 1000]:\n",
    "#    greedy(N)"
   ]
  },
  {
   "cell_type": "code",
   "execution_count": 116,
   "metadata": {},
   "outputs": [],
   "source": [
    "#%timeit greedy(1_000)"
   ]
  },
  {
   "cell_type": "code",
   "execution_count": 117,
   "metadata": {},
   "outputs": [],
   "source": [
    "import random\n",
    "\n",
    "def custom_search(N, seed):\n",
    "    \n",
    "    goal = set(range(N))\n",
    "    covered = set()\n",
    "    solution = list()\n",
    "    all_lists = problem(N, seed=42)\n",
    "    random.seed(seed)\n",
    "    random.shuffle(all_lists)\n",
    "    logging.debug(f\"all_lists: {all_lists}\")\n",
    "    while goal != covered: #while set of covered nums is not equal to goal\n",
    "        #i = random.randrange(len(all_lists))\n",
    "        #logging.debug(f\"i: {i}\")\n",
    "        x = all_lists.pop(0) #pick a list from all_lists\n",
    "        if not set(x) < covered: #if set of picked list is not a subset of covered\n",
    "            solution.append(x) #append it to the solution\n",
    "            covered |= set(x) #covered gets updated and becomes a union of covered plus picked set\n",
    "            \n",
    "\n",
    "    logging.info(\n",
    "        f\"custom search solution for N={N}: w={sum(len(_) for _ in solution)} (bloat={(sum(len(_) for _ in solution)-N)/N*100:.0f}%)\"\n",
    "    )\n",
    "    logging.debug(f\"{solution}\")"
   ]
  },
  {
   "cell_type": "code",
   "execution_count": 118,
   "metadata": {},
   "outputs": [
    {
     "name": "stderr",
     "output_type": "stream",
     "text": [
      "DEBUG:root:all_lists: [[1, 7], [8, 9, 3], [2, 3, 4], [1, 3, 4, 9], [8, 2, 3, 7], [1, 6], [0, 1, 3, 4, 5], [0, 9, 4, 5], [8, 1, 6], [3, 4, 5, 6, 8], [0, 3], [8, 2], [9, 6], [8, 9, 3, 6], [8, 2, 7], [0, 3], [0, 4, 7], [8, 1, 4], [1, 3, 6, 7], [0, 4], [8, 2, 3, 7], [1, 3, 4, 6], [1, 2, 3], [4, 5, 6], [8, 2, 3], [9, 5], [9, 6], [4, 5, 6], [1, 3, 6], [2, 5], [8, 3], [5, 6], [1, 3, 5], [8, 0, 4, 1], [9, 3], [9, 3, 5], [2, 5, 7], [0, 5], [3, 6, 7], [0, 1], [0, 5], [0, 3, 4, 7, 9], [0, 3], [8, 1, 3, 7], [0, 9, 3], [0, 1], [8, 3], [1, 4, 5, 6], [9, 2, 6], [6]]\n",
      "INFO:root:custom search solution for N=10: w=15 (bloat=50%)\n",
      "DEBUG:root:[[1, 7], [8, 9, 3], [2, 3, 4], [1, 6], [0, 1, 3, 4, 5]]\n"
     ]
    }
   ],
   "source": [
    "logging.getLogger().setLevel(logging.DEBUG)\n",
    "custom_search(10, 100)"
   ]
  }
 ],
 "metadata": {
  "kernelspec": {
   "display_name": "Python 3.8.10 64-bit",
   "language": "python",
   "name": "python3"
  },
  "language_info": {
   "codemirror_mode": {
    "name": "ipython",
    "version": 3
   },
   "file_extension": ".py",
   "mimetype": "text/x-python",
   "name": "python",
   "nbconvert_exporter": "python",
   "pygments_lexer": "ipython3",
   "version": "3.8.10"
  },
  "vscode": {
   "interpreter": {
    "hash": "916dbcbb3f70747c44a77c7bcd40155683ae19c65e1c03b4aa3499c5328201f1"
   }
  }
 },
 "nbformat": 4,
 "nbformat_minor": 2
}
