{
 "cells": [
  {
   "cell_type": "code",
   "execution_count": 47,
   "metadata": {},
   "outputs": [],
   "source": [
    "import random\n",
    "NUM_LOCI = 10\n",
    "GENOME_LEN = 10"
   ]
  },
  {
   "cell_type": "code",
   "execution_count": 48,
   "metadata": {},
   "outputs": [],
   "source": [
    "def onemax(genome):\n",
    "    return sum(genome)/len(genome)"
   ]
  },
  {
   "cell_type": "code",
   "execution_count": 49,
   "metadata": {},
   "outputs": [],
   "source": [
    "fitness = onemax"
   ]
  },
  {
   "cell_type": "code",
   "execution_count": 50,
   "metadata": {},
   "outputs": [],
   "source": [
    "def xover(g1, g2):\n",
    "    n = random.randint(0, len(g1)-1)\n",
    "    return g1[:n] + g2[n:]"
   ]
  },
  {
   "cell_type": "code",
   "execution_count": 51,
   "metadata": {},
   "outputs": [],
   "source": [
    "def mutation(g):\n",
    "    n = random.randint(0, len(g)-1)\n",
    "    m = list(g)\n",
    "    m[n] = not m[n]\n",
    "    return list(m)"
   ]
  },
  {
   "cell_type": "code",
   "execution_count": 52,
   "metadata": {},
   "outputs": [],
   "source": [
    "def tournament(population):\n",
    "    t=random.choices(population, k=2)\n",
    "    return max(t, key=lambda i: i[1])\n"
   ]
  },
  {
   "cell_type": "code",
   "execution_count": 53,
   "metadata": {},
   "outputs": [],
   "source": [
    "def ind2str(g):\n",
    "    return ''.join('|' if bit else '.' for bit in g)"
   ]
  },
  {
   "cell_type": "code",
   "execution_count": 54,
   "metadata": {},
   "outputs": [],
   "source": [
    "genome_list = [\n",
    "    [random.random()>.5 for _ in range(GENOME_LEN)] for _ in range(NUM_LOCI)\n",
    "]\n",
    "\n",
    "population = [(tuple(p), fitness(p)) for p in genome_list]"
   ]
  },
  {
   "cell_type": "code",
   "execution_count": 55,
   "metadata": {},
   "outputs": [
    {
     "name": "stdout",
     "output_type": "stream",
     "text": [
      "....|...||\n",
      "....|...|.\n",
      "\n",
      "....|...||\n",
      ".|||..|||.\n",
      "....|.|||.\n"
     ]
    }
   ],
   "source": [
    "print(ind2str(population[0][0]))\n",
    "print(ind2str(mutation(population[0][0])))\n",
    "print()\n",
    "print(ind2str(population[0][0]))\n",
    "print(ind2str(population[1][0]))\n",
    "print(ind2str(xover(population[0][0], population[1][0])))\n"
   ]
  },
  {
   "cell_type": "code",
   "execution_count": 56,
   "metadata": {},
   "outputs": [],
   "source": [
    "for g in range(100):\n",
    "    p1 = tournament(population)\n",
    "    p2 = tournament(population)\n",
    "    o = xover(p1[0], p2[0])\n",
    "    print(ind2str(o))"
   ]
  }
 ],
 "metadata": {
  "kernelspec": {
   "display_name": "Python 3.8.10 64-bit",
   "language": "python",
   "name": "python3"
  },
  "language_info": {
   "codemirror_mode": {
    "name": "ipython",
    "version": 3
   },
   "file_extension": ".py",
   "mimetype": "text/x-python",
   "name": "python",
   "nbconvert_exporter": "python",
   "pygments_lexer": "ipython3",
   "version": "3.8.10"
  },
  "orig_nbformat": 4,
  "vscode": {
   "interpreter": {
    "hash": "916dbcbb3f70747c44a77c7bcd40155683ae19c65e1c03b4aa3499c5328201f1"
   }
  }
 },
 "nbformat": 4,
 "nbformat_minor": 2
}
